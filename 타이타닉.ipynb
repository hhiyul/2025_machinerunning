{
  "cells": [
    {
      "cell_type": "code",
      "execution_count": 1,
      "metadata": {
        "id": "eVRZuPo-ZQqs"
      },
      "outputs": [],
      "source": [
        "import sys\n",
        "assert sys.version_info >= (3, 7)"
      ]
    },
    {
      "cell_type": "code",
      "execution_count": 5,
      "metadata": {
        "id": "dWueHhe8ZXRt"
      },
      "outputs": [],
      "source": [
        "import sklearn\n",
        "assert sklearn.__version__ >= \"1.0.1\""
      ]
    },
    {
      "cell_type": "code",
      "execution_count": 6,
      "metadata": {
        "id": "hzCd1scrZYTr"
      },
      "outputs": [],
      "source": [
        "import numpy as np\n",
        "\n",
        "np.random.seed(42)"
      ]
    },
    {
      "cell_type": "code",
      "execution_count": 7,
      "metadata": {
        "id": "1h6LBp2ZZYSj"
      },
      "outputs": [],
      "source": [
        "from pathlib import Path\n",
        "import pandas as pd\n",
        "import tarfile\n",
        "import urllib.request\n",
        "\n",
        "test = pd.read_csv('https://raw.githubusercontent.com/hhiyul/2025_machinerunning/refs/heads/main/test.csv')\n",
        "train = pd.read_csv('https://raw.githubusercontent.com/hhiyul/2025_machinerunning/refs/heads/main/train.csv')\n",
        "PassengerId = pd.read_csv('https://raw.githubusercontent.com/hhiyul/2025_machinerunning/refs/heads/main/gender_submission.csv')"
      ]
    },
    {
      "cell_type": "markdown",
      "metadata": {
        "id": "VTzB4KbuO8h8"
      },
      "source": [
        "여기서 PassengerId는 이미 test와 train에 있으니 사용 안함"
      ]
    },
    {
      "cell_type": "code",
      "execution_count": 8,
      "metadata": {
        "colab": {
          "base_uri": "https://localhost:8080/",
          "height": 206
        },
        "id": "MnRpcC_cb3oM",
        "outputId": "75a1f92a-95b8-4c6e-be13-1f4fec77cfd3"
      },
      "outputs": [
        {
          "data": {
            "text/html": [
              "<div>\n",
              "<style scoped>\n",
              "    .dataframe tbody tr th:only-of-type {\n",
              "        vertical-align: middle;\n",
              "    }\n",
              "\n",
              "    .dataframe tbody tr th {\n",
              "        vertical-align: top;\n",
              "    }\n",
              "\n",
              "    .dataframe thead th {\n",
              "        text-align: right;\n",
              "    }\n",
              "</style>\n",
              "<table border=\"1\" class=\"dataframe\">\n",
              "  <thead>\n",
              "    <tr style=\"text-align: right;\">\n",
              "      <th></th>\n",
              "      <th>PassengerId</th>\n",
              "      <th>Pclass</th>\n",
              "      <th>Name</th>\n",
              "      <th>Sex</th>\n",
              "      <th>Age</th>\n",
              "      <th>SibSp</th>\n",
              "      <th>Parch</th>\n",
              "      <th>Ticket</th>\n",
              "      <th>Fare</th>\n",
              "      <th>Cabin</th>\n",
              "      <th>Embarked</th>\n",
              "    </tr>\n",
              "  </thead>\n",
              "  <tbody>\n",
              "    <tr>\n",
              "      <th>0</th>\n",
              "      <td>892</td>\n",
              "      <td>3</td>\n",
              "      <td>Kelly, Mr. James</td>\n",
              "      <td>male</td>\n",
              "      <td>34.5</td>\n",
              "      <td>0</td>\n",
              "      <td>0</td>\n",
              "      <td>330911</td>\n",
              "      <td>7.8292</td>\n",
              "      <td>NaN</td>\n",
              "      <td>Q</td>\n",
              "    </tr>\n",
              "    <tr>\n",
              "      <th>1</th>\n",
              "      <td>893</td>\n",
              "      <td>3</td>\n",
              "      <td>Wilkes, Mrs. James (Ellen Needs)</td>\n",
              "      <td>female</td>\n",
              "      <td>47.0</td>\n",
              "      <td>1</td>\n",
              "      <td>0</td>\n",
              "      <td>363272</td>\n",
              "      <td>7.0000</td>\n",
              "      <td>NaN</td>\n",
              "      <td>S</td>\n",
              "    </tr>\n",
              "    <tr>\n",
              "      <th>2</th>\n",
              "      <td>894</td>\n",
              "      <td>2</td>\n",
              "      <td>Myles, Mr. Thomas Francis</td>\n",
              "      <td>male</td>\n",
              "      <td>62.0</td>\n",
              "      <td>0</td>\n",
              "      <td>0</td>\n",
              "      <td>240276</td>\n",
              "      <td>9.6875</td>\n",
              "      <td>NaN</td>\n",
              "      <td>Q</td>\n",
              "    </tr>\n",
              "    <tr>\n",
              "      <th>3</th>\n",
              "      <td>895</td>\n",
              "      <td>3</td>\n",
              "      <td>Wirz, Mr. Albert</td>\n",
              "      <td>male</td>\n",
              "      <td>27.0</td>\n",
              "      <td>0</td>\n",
              "      <td>0</td>\n",
              "      <td>315154</td>\n",
              "      <td>8.6625</td>\n",
              "      <td>NaN</td>\n",
              "      <td>S</td>\n",
              "    </tr>\n",
              "    <tr>\n",
              "      <th>4</th>\n",
              "      <td>896</td>\n",
              "      <td>3</td>\n",
              "      <td>Hirvonen, Mrs. Alexander (Helga E Lindqvist)</td>\n",
              "      <td>female</td>\n",
              "      <td>22.0</td>\n",
              "      <td>1</td>\n",
              "      <td>1</td>\n",
              "      <td>3101298</td>\n",
              "      <td>12.2875</td>\n",
              "      <td>NaN</td>\n",
              "      <td>S</td>\n",
              "    </tr>\n",
              "  </tbody>\n",
              "</table>\n",
              "</div>"
            ],
            "text/plain": [
              "   PassengerId  Pclass                                          Name     Sex  \\\n",
              "0          892       3                              Kelly, Mr. James    male   \n",
              "1          893       3              Wilkes, Mrs. James (Ellen Needs)  female   \n",
              "2          894       2                     Myles, Mr. Thomas Francis    male   \n",
              "3          895       3                              Wirz, Mr. Albert    male   \n",
              "4          896       3  Hirvonen, Mrs. Alexander (Helga E Lindqvist)  female   \n",
              "\n",
              "    Age  SibSp  Parch   Ticket     Fare Cabin Embarked  \n",
              "0  34.5      0      0   330911   7.8292   NaN        Q  \n",
              "1  47.0      1      0   363272   7.0000   NaN        S  \n",
              "2  62.0      0      0   240276   9.6875   NaN        Q  \n",
              "3  27.0      0      0   315154   8.6625   NaN        S  \n",
              "4  22.0      1      1  3101298  12.2875   NaN        S  "
            ]
          },
          "execution_count": 8,
          "metadata": {},
          "output_type": "execute_result"
        }
      ],
      "source": [
        "test.head()"
      ]
    },
    {
      "cell_type": "code",
      "execution_count": 9,
      "metadata": {
        "colab": {
          "base_uri": "https://localhost:8080/",
          "height": 206
        },
        "id": "2xTcCoj2cd92",
        "outputId": "d591925d-1be3-4cf6-ca0c-60afd8f88054"
      },
      "outputs": [
        {
          "data": {
            "text/html": [
              "<div>\n",
              "<style scoped>\n",
              "    .dataframe tbody tr th:only-of-type {\n",
              "        vertical-align: middle;\n",
              "    }\n",
              "\n",
              "    .dataframe tbody tr th {\n",
              "        vertical-align: top;\n",
              "    }\n",
              "\n",
              "    .dataframe thead th {\n",
              "        text-align: right;\n",
              "    }\n",
              "</style>\n",
              "<table border=\"1\" class=\"dataframe\">\n",
              "  <thead>\n",
              "    <tr style=\"text-align: right;\">\n",
              "      <th></th>\n",
              "      <th>PassengerId</th>\n",
              "      <th>Survived</th>\n",
              "      <th>Pclass</th>\n",
              "      <th>Name</th>\n",
              "      <th>Sex</th>\n",
              "      <th>Age</th>\n",
              "      <th>SibSp</th>\n",
              "      <th>Parch</th>\n",
              "      <th>Ticket</th>\n",
              "      <th>Fare</th>\n",
              "      <th>Cabin</th>\n",
              "      <th>Embarked</th>\n",
              "    </tr>\n",
              "  </thead>\n",
              "  <tbody>\n",
              "    <tr>\n",
              "      <th>0</th>\n",
              "      <td>1</td>\n",
              "      <td>0</td>\n",
              "      <td>3</td>\n",
              "      <td>Braund, Mr. Owen Harris</td>\n",
              "      <td>male</td>\n",
              "      <td>22.0</td>\n",
              "      <td>1</td>\n",
              "      <td>0</td>\n",
              "      <td>A/5 21171</td>\n",
              "      <td>7.2500</td>\n",
              "      <td>NaN</td>\n",
              "      <td>S</td>\n",
              "    </tr>\n",
              "    <tr>\n",
              "      <th>1</th>\n",
              "      <td>2</td>\n",
              "      <td>1</td>\n",
              "      <td>1</td>\n",
              "      <td>Cumings, Mrs. John Bradley (Florence Briggs Th...</td>\n",
              "      <td>female</td>\n",
              "      <td>38.0</td>\n",
              "      <td>1</td>\n",
              "      <td>0</td>\n",
              "      <td>PC 17599</td>\n",
              "      <td>71.2833</td>\n",
              "      <td>C85</td>\n",
              "      <td>C</td>\n",
              "    </tr>\n",
              "    <tr>\n",
              "      <th>2</th>\n",
              "      <td>3</td>\n",
              "      <td>1</td>\n",
              "      <td>3</td>\n",
              "      <td>Heikkinen, Miss. Laina</td>\n",
              "      <td>female</td>\n",
              "      <td>26.0</td>\n",
              "      <td>0</td>\n",
              "      <td>0</td>\n",
              "      <td>STON/O2. 3101282</td>\n",
              "      <td>7.9250</td>\n",
              "      <td>NaN</td>\n",
              "      <td>S</td>\n",
              "    </tr>\n",
              "    <tr>\n",
              "      <th>3</th>\n",
              "      <td>4</td>\n",
              "      <td>1</td>\n",
              "      <td>1</td>\n",
              "      <td>Futrelle, Mrs. Jacques Heath (Lily May Peel)</td>\n",
              "      <td>female</td>\n",
              "      <td>35.0</td>\n",
              "      <td>1</td>\n",
              "      <td>0</td>\n",
              "      <td>113803</td>\n",
              "      <td>53.1000</td>\n",
              "      <td>C123</td>\n",
              "      <td>S</td>\n",
              "    </tr>\n",
              "    <tr>\n",
              "      <th>4</th>\n",
              "      <td>5</td>\n",
              "      <td>0</td>\n",
              "      <td>3</td>\n",
              "      <td>Allen, Mr. William Henry</td>\n",
              "      <td>male</td>\n",
              "      <td>35.0</td>\n",
              "      <td>0</td>\n",
              "      <td>0</td>\n",
              "      <td>373450</td>\n",
              "      <td>8.0500</td>\n",
              "      <td>NaN</td>\n",
              "      <td>S</td>\n",
              "    </tr>\n",
              "  </tbody>\n",
              "</table>\n",
              "</div>"
            ],
            "text/plain": [
              "   PassengerId  Survived  Pclass  \\\n",
              "0            1         0       3   \n",
              "1            2         1       1   \n",
              "2            3         1       3   \n",
              "3            4         1       1   \n",
              "4            5         0       3   \n",
              "\n",
              "                                                Name     Sex   Age  SibSp  \\\n",
              "0                            Braund, Mr. Owen Harris    male  22.0      1   \n",
              "1  Cumings, Mrs. John Bradley (Florence Briggs Th...  female  38.0      1   \n",
              "2                             Heikkinen, Miss. Laina  female  26.0      0   \n",
              "3       Futrelle, Mrs. Jacques Heath (Lily May Peel)  female  35.0      1   \n",
              "4                           Allen, Mr. William Henry    male  35.0      0   \n",
              "\n",
              "   Parch            Ticket     Fare Cabin Embarked  \n",
              "0      0         A/5 21171   7.2500   NaN        S  \n",
              "1      0          PC 17599  71.2833   C85        C  \n",
              "2      0  STON/O2. 3101282   7.9250   NaN        S  \n",
              "3      0            113803  53.1000  C123        S  \n",
              "4      0            373450   8.0500   NaN        S  "
            ]
          },
          "execution_count": 9,
          "metadata": {},
          "output_type": "execute_result"
        }
      ],
      "source": [
        "train.head()"
      ]
    },
    {
      "cell_type": "markdown",
      "metadata": {
        "id": "_7jeynVLckti"
      },
      "source": [
        "PassengerId = 승객번호, Survived = 생존여부(1=생존, 0=사망), Pclass = 객실등급"
      ]
    },
    {
      "cell_type": "markdown",
      "metadata": {
        "id": "N5OmEOnuc1Cn"
      },
      "source": [
        "일단 승객번호 의미없고\n",
        "\n",
        "성별, 객실등급, SibSp(형재자매배우), cabin까지?"
      ]
    },
    {
      "cell_type": "code",
      "execution_count": 10,
      "metadata": {
        "colab": {
          "base_uri": "https://localhost:8080/"
        },
        "id": "0axqavp-K7Mu",
        "outputId": "3865ead7-8662-449b-de3d-c6af5424b680"
      },
      "outputs": [
        {
          "name": "stdout",
          "output_type": "stream",
          "text": [
            "<class 'pandas.core.frame.DataFrame'>\n",
            "RangeIndex: 891 entries, 0 to 890\n",
            "Data columns (total 12 columns):\n",
            " #   Column       Non-Null Count  Dtype  \n",
            "---  ------       --------------  -----  \n",
            " 0   PassengerId  891 non-null    int64  \n",
            " 1   Survived     891 non-null    int64  \n",
            " 2   Pclass       891 non-null    int64  \n",
            " 3   Name         891 non-null    object \n",
            " 4   Sex          891 non-null    object \n",
            " 5   Age          714 non-null    float64\n",
            " 6   SibSp        891 non-null    int64  \n",
            " 7   Parch        891 non-null    int64  \n",
            " 8   Ticket       891 non-null    object \n",
            " 9   Fare         891 non-null    float64\n",
            " 10  Cabin        204 non-null    object \n",
            " 11  Embarked     889 non-null    object \n",
            "dtypes: float64(2), int64(5), object(5)\n",
            "memory usage: 83.7+ KB\n"
          ]
        }
      ],
      "source": [
        "train.info()"
      ]
    },
    {
      "cell_type": "code",
      "execution_count": 11,
      "metadata": {
        "colab": {
          "base_uri": "https://localhost:8080/"
        },
        "id": "uUejzUsdPQqe",
        "outputId": "8e1e77a1-edfb-4e40-8227-bde50b295472"
      },
      "outputs": [
        {
          "name": "stdout",
          "output_type": "stream",
          "text": [
            "<class 'pandas.core.frame.DataFrame'>\n",
            "RangeIndex: 418 entries, 0 to 417\n",
            "Data columns (total 11 columns):\n",
            " #   Column       Non-Null Count  Dtype  \n",
            "---  ------       --------------  -----  \n",
            " 0   PassengerId  418 non-null    int64  \n",
            " 1   Pclass       418 non-null    int64  \n",
            " 2   Name         418 non-null    object \n",
            " 3   Sex          418 non-null    object \n",
            " 4   Age          332 non-null    float64\n",
            " 5   SibSp        418 non-null    int64  \n",
            " 6   Parch        418 non-null    int64  \n",
            " 7   Ticket       418 non-null    object \n",
            " 8   Fare         417 non-null    float64\n",
            " 9   Cabin        91 non-null     object \n",
            " 10  Embarked     418 non-null    object \n",
            "dtypes: float64(2), int64(4), object(5)\n",
            "memory usage: 36.1+ KB\n"
          ]
        }
      ],
      "source": [
        "test.info()"
      ]
    },
    {
      "cell_type": "markdown",
      "metadata": {
        "id": "I-4gXCatPX4n"
      },
      "source": [
        "test = 훈련 데이터셋, train = 걍 데이터값"
      ]
    },
    {
      "cell_type": "code",
      "execution_count": 12,
      "metadata": {
        "id": "9qfDBKJTzYLs"
      },
      "outputs": [],
      "source": [
        "import matplotlib.pyplot as plt\n",
        "import seaborn as sns\n",
        "\n",
        "plt.rc('font', size=14)\n",
        "plt.rc('axes', labelsize=14, titlesize=14)\n",
        "plt.rc('legend', fontsize=14)\n",
        "plt.rc('xtick', labelsize=10)\n",
        "plt.rc('ytick', labelsize=10)"
      ]
    },
    {
      "cell_type": "code",
      "execution_count": 13,
      "metadata": {
        "id": "gmSq2aP-KjS4"
      },
      "outputs": [],
      "source": [
        "IMAGES_PATH = Path() / \"images\" / \"end_to_end_project\" # 이미지 파일 저장 디렉토리 지정\n",
        "IMAGES_PATH.mkdir(parents=True, exist_ok=True)         # 디렉토리 생성"
      ]
    },
    {
      "cell_type": "code",
      "execution_count": 12,
      "metadata": {
        "id": "wH7VxBj5N4z0"
      },
      "outputs": [],
      "source": []
    },
    {
      "cell_type": "code",
      "execution_count": 14,
      "metadata": {
        "colab": {
          "base_uri": "https://localhost:8080/",
          "height": 178
        },
        "id": "NP87YoxLOIGh",
        "outputId": "7989de35-ceab-41b4-e605-c0e35ae43225"
      },
      "outputs": [
        {
          "data": {
            "text/plain": [
              "Survived\n",
              "0    468\n",
              "1    109\n",
              "Name: count, dtype: int64"
            ]
          },
          "execution_count": 14,
          "metadata": {},
          "output_type": "execute_result"
        }
      ],
      "source": [
        "train['Survived'][train['Sex']=='male'].value_counts()"
      ]
    },
    {
      "cell_type": "code",
      "execution_count": 15,
      "metadata": {
        "colab": {
          "base_uri": "https://localhost:8080/",
          "height": 178
        },
        "id": "0uHrPIunRW-b",
        "outputId": "37d42a6a-b568-4fbf-92d5-f6e570269afa"
      },
      "outputs": [
        {
          "data": {
            "text/plain": [
              "Survived\n",
              "1    233\n",
              "0     81\n",
              "Name: count, dtype: int64"
            ]
          },
          "execution_count": 15,
          "metadata": {},
          "output_type": "execute_result"
        }
      ],
      "source": [
        "train['Survived'][train['Sex']=='female'].value_counts()"
      ]
    },
    {
      "cell_type": "code",
      "execution_count": 16,
      "metadata": {
        "colab": {
          "base_uri": "https://localhost:8080/",
          "height": 570
        },
        "id": "XT2JGO9dQWpg",
        "outputId": "13b07d7c-81f4-4891-fce1-4acb832adfd8"
      },
      "outputs": [
        {
          "data": {
            "image/png": "[encoded data removed]",
            "text/plain": [
              "<Figure size 800x600 with 1 Axes>"
            ]
          },
          "metadata": {},
          "output_type": "display_data"
        }
      ],
      "source": [
        "import matplotlib.pyplot as plt\n",
        "\n",
        "# 남/여 전체 수 구하기\n",
        "total_counts = train['Sex'].value_counts()\n",
        "\n",
        "# 남/여 사망자 수 구하기\n",
        "death_counts = train[train['Survived'] == 0]['Sex'].value_counts()\n",
        "\n",
        "# NaN 값(사망자가 없는 경우) 처리 → 0으로 채우기\n",
        "death_counts = death_counts.reindex(total_counts.index, fill_value=0)\n",
        "\n",
        "# 사망자 비율 계산\n",
        "death_ratio = death_counts / total_counts * 100\n",
        "\n",
        "# 세로 막대 그래프 그리기\n",
        "plt.figure(figsize=(8, 6))\n",
        "pbars = plt.bar(total_counts.index, death_ratio, color=['lightblue', 'lightpink'], width=0.4)  # 막대 두께 조정\n",
        "\n",
        "# 각 막대 끝에 비율 텍스트 추가\n",
        "for bar in pbars:\n",
        "    height = bar.get_height()  # 막대의 높이(사망자 비율)\n",
        "    plt.text(bar.get_x() + bar.get_width() / 2, height + 1, f'{height:.1f}%', ha='center', va='bottom', color='black', fontweight='bold')\n",
        "\n",
        "# y축 범위를 0에서 100으로 설정\n",
        "plt.ylim(0, 100)\n",
        "\n",
        "# 라벨 & 제목 추가\n",
        "plt.xlabel(\"Sex\")\n",
        "plt.ylabel(\"Death ratio (%)\")\n",
        "plt.title(\"Death rate by gender\")\n",
        "plt.legend([\"Death Rate\"], loc=\"upper right\")  # 범례 추가\n",
        "\n",
        "# 그래프 출력\n",
        "plt.show()\n"
      ]
    },
    {
      "cell_type": "code",
      "execution_count": 17,
      "metadata": {
        "colab": {
          "base_uri": "https://localhost:8080/",
          "height": 209
        },
        "id": "A2zg-q98Ubmn",
        "outputId": "223165f9-b383-40a7-d9bc-dac25a897072"
      },
      "outputs": [
        {
          "data": {
            "text/plain": [
              "Pclass\n",
              "3    491\n",
              "1    216\n",
              "2    184\n",
              "Name: count, dtype: int64"
            ]
          },
          "execution_count": 17,
          "metadata": {},
          "output_type": "execute_result"
        }
      ],
      "source": [
        "train['Pclass'].value_counts()"
      ]
    },
    {
      "cell_type": "code",
      "execution_count": 18,
      "metadata": {
        "colab": {
          "base_uri": "https://localhost:8080/",
          "height": 178
        },
        "id": "8GYxaYb2VUE6",
        "outputId": "1b8a1843-6321-411f-8cbf-14e5abd72032"
      },
      "outputs": [
        {
          "data": {
            "text/plain": [
              "Survived\n",
              "1    136\n",
              "0     80\n",
              "Name: count, dtype: int64"
            ]
          },
          "execution_count": 18,
          "metadata": {},
          "output_type": "execute_result"
        }
      ],
      "source": [
        "survival_class_1 = train['Survived'][train['Pclass'] == 1].value_counts()\n",
        "\n",
        "# Pclass 2에서 생존자와 사망자 수 계산\n",
        "survival_class_2 = train['Survived'][train['Pclass'] == 2].value_counts()\n",
        "\n",
        "# Pclass 3에서 생존자와 사망자 수 계산\n",
        "survival_class_3 = train['Survived'][train['Pclass'] == 3].value_counts()\n",
        "\n",
        "survival_class_3\n",
        "survival_class_2\n",
        "survival_class_1"
      ]
    },
    {
      "cell_type": "code",
      "execution_count": 19,
      "metadata": {
        "colab": {
          "base_uri": "https://localhost:8080/",
          "height": 570
        },
        "id": "FJP_yoqcWFDD",
        "outputId": "0329566c-97af-4ead-8ca0-e0b800444a6e"
      },
      "outputs": [
        {
          "data": {
            "image/png": "[encoded data removed]",
            "text/plain": [
              "<Figure size 800x600 with 1 Axes>"
            ]
          },
          "metadata": {},
          "output_type": "display_data"
        }
      ],
      "source": [
        "# Pclass별 전체 수\n",
        "pclass_total_counts = train['Pclass'].value_counts()\n",
        "\n",
        "# Pclass별 사망자 수 계산\n",
        "pclass_deceased_counts = train[train['Survived'] == 0].groupby('Pclass').size()\n",
        "\n",
        "# NaN 처리 (Pclass별 사망자 수가 없는 경우 0으로 채워짐)\n",
        "pclass_deceased_counts = pclass_deceased_counts.reindex(pclass_total_counts.index, fill_value=0)\n",
        "\n",
        "# 사망자 비율 계산\n",
        "pclass_deceased_ratio = (pclass_deceased_counts / pclass_total_counts) * 100\n",
        "\n",
        "# 그래프 그리기\n",
        "fig, ax = plt.subplots(figsize=(8, 6))\n",
        "\n",
        "# 사망자 비율 막대 그래프\n",
        "ax.bar(pclass_total_counts.index, pclass_deceased_ratio, width=0.4, color='lightcoral', label='Death rate')\n",
        "\n",
        "# 각 막대에 사망자 비율 텍스트 추가\n",
        "for i in pclass_total_counts.index:\n",
        "    deceased = pclass_deceased_counts[i]\n",
        "    deceased_percent = pclass_deceased_ratio[i]\n",
        "    ax.text(i, deceased_percent + 2, f'{deceased_percent:.1f}%', ha='center', va='bottom', color='black', fontweight='bold')\n",
        "\n",
        "plt.ylim(0, 100)\n",
        "\n",
        "# 라벨 및 제목 설정\n",
        "ax.set_xlabel(\"Pclass\")\n",
        "ax.set_ylabel(\"Death Ratio (%)\")\n",
        "ax.set_title(\"Death rate by Pclass\")\n",
        "ax.set_xticks(pclass_total_counts.index)\n",
        "ax.set_xticklabels([f'Pclass {i}' for i in pclass_total_counts.index])\n",
        "ax.legend()\n",
        "\n",
        "# 그래프 출력\n",
        "plt.show()\n"
      ]
    },
    {
      "cell_type": "code",
      "execution_count": 20,
      "metadata": {
        "colab": {
          "base_uri": "https://localhost:8080/",
          "height": 335
        },
        "id": "6kIm4bd_YHAs",
        "outputId": "5515c162-c9cc-455b-ce4e-0106a43e1441"
      },
      "outputs": [
        {
          "data": {
            "text/plain": [
              "SibSp\n",
              "0    608\n",
              "1    209\n",
              "2     28\n",
              "4     18\n",
              "3     16\n",
              "8      7\n",
              "5      5\n",
              "Name: count, dtype: int64"
            ]
          },
          "execution_count": 20,
          "metadata": {},
          "output_type": "execute_result"
        }
      ],
      "source": [
        "train['SibSp'].value_counts()"
      ]
    },
    {
      "cell_type": "code",
      "execution_count": 24,
      "metadata": {
        "colab": {
          "base_uri": "https://localhost:8080/",
          "height": 570
        },
        "id": "brn4wgXRYZSG",
        "outputId": "1e032555-56b4-4549-b8e2-a058d23b6bb9"
      },
      "outputs": [
        {
          "data": {
            "image/png": "[encoded data removed]",
            "text/plain": [
              "<Figure size 1000x600 with 1 Axes>"
            ]
          },
          "metadata": {},
          "output_type": "display_data"
        }
      ],
      "source": [
        "import matplotlib.pyplot as plt\n",
        "\n",
        "# SibSp를 숫자형으로 변환\n",
        "train['SibSp'] = train['SibSp'].astype(int)\n",
        "\n",
        "# SibSp별 전체 수\n",
        "SibSp_total_counts = train['SibSp'].value_counts().sort_index()\n",
        "\n",
        "# SibSp별 사망자 수 계산\n",
        "SibSp_deceased_counts = train[train['Survived'] == 0].groupby('SibSp').size()\n",
        "\n",
        "# NaN 처리 (SibSp별 사망자 수가 없는 경우 0으로 채워짐)\n",
        "SibSp_deceased_counts = SibSp_deceased_counts.reindex(SibSp_total_counts.index, fill_value=0)\n",
        "\n",
        "# 사망자 비율 계산\n",
        "SibSp_deceased_ratio = (SibSp_deceased_counts / SibSp_total_counts) * 100\n",
        "\n",
        "# 그래프 그리기\n",
        "fig, ax = plt.subplots(figsize=(10, 6))\n",
        "\n",
        "# 사망자 비율 막대 그래프\n",
        "ax.bar(SibSp_total_counts.index.astype(str), SibSp_deceased_ratio, width=0.4, color='lightcoral', label='Death rate')\n",
        "\n",
        "# 각 막대에 사망자 비율 텍스트 추가\n",
        "for i in SibSp_total_counts.index:\n",
        "    deceased_percent = SibSp_deceased_ratio[i]\n",
        "    ax.text(i, deceased_percent + 2, f'{deceased_percent:.1f}%', ha='center', va='bottom', color='black', fontweight='bold')\n",
        "\n",
        "plt.ylim(0, 130)\n",
        "\n",
        "# 라벨 및 제목 설정\n",
        "ax.set_xlabel(\"SibSp (Family Size)\")\n",
        "ax.set_ylabel(\"Death Ratio (%)\")\n",
        "ax.set_title(\"Death rate by SibSp (Family Size)\")\n",
        "ax.legend(loc='upper left')\n",
        "\n",
        "# 그래프 출력\n",
        "plt.show()\n",
        "\n",
        "#시발 이거 왜이래#시발 이거 왜이래#시발 이거 왜이래#시발 이거 왜이래#시발 이거 왜이래#시발 이거 왜이래#시발 이거 왜이래#시발 이거 왜이래#시발 이거 왜이래#시발 이거 왜이래#시발 이거 왜이래#시발 이거 왜이래#시발 이거 왜이래#시발 이거 왜이래#시발 이거 왜이래\n",
        "#시발 이거 왜이래#시발 이거 왜이래#시발 이거 왜이래#시발 이거 왜이래#시발 이거 왜이래#시발 이거 왜이래#시발 이거 왜이래#시발 이거 왜이래#시발 이거 왜이래#시발 이거 왜이래#시발 이거 왜이래#시발 이거 왜이래#시발 이거 왜이래#시발 이거 왜이래#시발 이거 왜이래\n",
        "#시발 이거 왜이래#시발 이거 왜이래#시발 이거 왜이래#시발 이거 왜이래#시발 이거 왜이래#시발 이거 왜이래#시발 이거 왜이래#시발 이거 왜이래#시발 이거 왜이래#시발 이거 왜이래#시발 이거 왜이래#시발 이거 왜이래#시발 이거 왜이래#시발 이거 왜이래#시발 이거 왜이래\n",
        "#시발 이거 왜이래#시발 이거 왜이래#시발 이거 왜이래#시발 이거 왜이래#시발 이거 왜이래#시발 이거 왜이래#시발 이거 왜이래#시발 이거 왜이래#시발 이거 왜이래#시발 이거 왜이래#시발 이거 왜이래#시발 이거 왜이래#시발 이거 왜이래#시발 이거 왜이래#시발 이거 왜이래"
      ]
    },
    {
      "cell_type": "code",
      "execution_count": 22,
      "metadata": {
        "colab": {
          "base_uri": "https://localhost:8080/",
          "height": 489
        },
        "id": "B8He2CcbiC9w",
        "outputId": "91af8e0e-3b32-45f6-ae07-f85d0e5dd017"
      },
      "outputs": [
        {
          "data": {
            "text/plain": [
              "Cabin\n",
              "G6             4\n",
              "C23 C25 C27    4\n",
              "B96 B98        4\n",
              "F2             3\n",
              "D              3\n",
              "              ..\n",
              "E17            1\n",
              "A24            1\n",
              "C50            1\n",
              "B42            1\n",
              "C148           1\n",
              "Name: count, Length: 147, dtype: int64"
            ]
          },
          "execution_count": 22,
          "metadata": {},
          "output_type": "execute_result"
        }
      ],
      "source": [
        "train['Cabin'].value_counts()"
      ]
    },
    {
      "cell_type": "markdown",
      "metadata": {},
      "source": [
        "고로 "
      ]
    }
  ],
  "metadata": {
    "colab": {
      "provenance": []
    },
    "kernelspec": {
      "display_name": "Python 3",
      "name": "python3"
    },
    "language_info": {
      "codemirror_mode": {
        "name": "ipython",
        "version": 3
      },
      "file_extension": ".py",
      "mimetype": "text/x-python",
      "name": "python",
      "nbconvert_exporter": "python",
      "pygments_lexer": "ipython3",
      "version": "3.11.9"
    }
  },
  "nbformat": 4,
  "nbformat_minor": 0
}
